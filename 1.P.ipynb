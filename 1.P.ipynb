{
 "cells": [
  {
   "cell_type": "code",
   "execution_count": 1,
   "id": "c9aff18b",
   "metadata": {},
   "outputs": [
    {
     "name": "stdout",
     "output_type": "stream",
     "text": [
      "Select operation:\n",
      "1. Add\n",
      "2. Subtract\n",
      "3. Multiply\n",
      "4. Divide\n",
      "Enter choice (1/2/3/4): 1\n",
      "Enter the first number: 1\n",
      "Enter the second number: 2\n",
      "Result: 3.0\n",
      "Do you want to perform another calculation? (y/n): Y\n",
      "Enter choice (1/2/3/4): 2\n",
      "Enter the first number: 15\n",
      "Enter the second number: 7\n",
      "Result: 8.0\n",
      "Do you want to perform another calculation? (y/n): Y\n",
      "Enter choice (1/2/3/4): 3\n",
      "Enter the first number: 5\n",
      "Enter the second number: 5\n",
      "Result: 25.0\n",
      "Do you want to perform another calculation? (y/n): Y\n",
      "Enter choice (1/2/3/4): 4\n",
      "Enter the first number: 40\n",
      "Enter the second number: 10\n",
      "Result: 4.0\n",
      "Do you want to perform another calculation? (y/n): N\n",
      "Exiting the calculator.\n"
     ]
    }
   ],
   "source": [
    "def add(x, y):\n",
    "    return x + y\n",
    "\n",
    "def subtract(x, y):\n",
    "    return x - y\n",
    "\n",
    "def multiply(x, y):\n",
    "    return x * y\n",
    "\n",
    "def divide(x, y):\n",
    "    if y != 0:\n",
    "        return x / y\n",
    "    else:\n",
    "        return \"Error: Cannot divide by zero\"\n",
    "\n",
    "def calculator():\n",
    "    print(\"Select operation:\")\n",
    "    print(\"1. Add\")\n",
    "    print(\"2. Subtract\")\n",
    "    print(\"3. Multiply\")\n",
    "    print(\"4. Divide\")\n",
    "\n",
    "    while True:\n",
    "        try:\n",
    "            choice = int(input(\"Enter choice (1/2/3/4): \"))\n",
    "\n",
    "            if choice in (1, 2, 3, 4):\n",
    "                num1 = float(input(\"Enter the first number: \"))\n",
    "                num2 = float(input(\"Enter the second number: \"))\n",
    "\n",
    "                if choice == 1:\n",
    "                    print(\"Result:\", add(num1, num2))\n",
    "                elif choice == 2:\n",
    "                    print(\"Result:\", subtract(num1, num2))\n",
    "                elif choice == 3:\n",
    "                    print(\"Result:\", multiply(num1, num2))\n",
    "                elif choice == 4:\n",
    "                    print(\"Result:\", divide(num1, num2))\n",
    "\n",
    "            else:\n",
    "                print(\"Invalid choice! Please select a valid operation.\")\n",
    "        except ValueError:\n",
    "            print(\"Invalid input! Please enter a number.\")\n",
    "\n",
    "        another_calculation = input(\"Do you want to perform another calculation? (y/n): \")\n",
    "        if another_calculation.lower() != 'y':\n",
    "            print(\"Exiting the calculator.\")\n",
    "            break\n",
    "\n",
    "if __name__ == \"__main__\":\n",
    "    calculator()\n"
   ]
  },
  {
   "cell_type": "code",
   "execution_count": null,
   "id": "70dd8ee2",
   "metadata": {},
   "outputs": [],
   "source": []
  }
 ],
 "metadata": {
  "kernelspec": {
   "display_name": "Python 3 (ipykernel)",
   "language": "python",
   "name": "python3"
  },
  "language_info": {
   "codemirror_mode": {
    "name": "ipython",
    "version": 3
   },
   "file_extension": ".py",
   "mimetype": "text/x-python",
   "name": "python",
   "nbconvert_exporter": "python",
   "pygments_lexer": "ipython3",
   "version": "3.10.9"
  }
 },
 "nbformat": 4,
 "nbformat_minor": 5
}
